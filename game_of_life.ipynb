{
 "cells": [
  {
   "cell_type": "code",
   "execution_count": 1,
   "id": "32fcbf0c",
   "metadata": {},
   "outputs": [],
   "source": [
    "import numpy as np\n",
    "import matplotlib.pyplot as plt\n",
    "import matplotlib.animation as animation\n",
    "import scipy \n",
    "from scipy import signal\n",
    "import cv2 as cv\n",
    "import time"
   ]
  },
  {
   "cell_type": "code",
   "execution_count": 2,
   "id": "1a219153",
   "metadata": {},
   "outputs": [],
   "source": [
    "class life():\n",
    "    \n",
    "    def __init__(self, init_state):\n",
    "        self.state = init_state    # nDimX x nDimY grid of 1s or 0s\n",
    "        self.nDimX = np.asarray(self.state).shape[1]  # num cols\n",
    "        self.nDimY = np.asarray(self.state).shape[0]  # num rows  \n",
    "        self.steady = False                           # we haven't reached steady state yet\n",
    "        # self.convState = np.empty_like(self.state)\n",
    "    \n",
    "    \n",
    "    def convolve(self):\n",
    "        # create kernel\n",
    "        kernel = np.ones((3,3))\n",
    "        \n",
    "        # convolve with the kernel\n",
    "        convolution = signal.convolve2d(self.state, kernel, mode='same', boundary='fill')\n",
    "        convolution = np.asarray(convolution)\n",
    "        \n",
    "        assert convolution.shape[0] == self.nDimY, print('actual shape[0]: {}'.format(convolution.shape[0]))\n",
    "        assert convolution.shape[1] == self.nDimX, print('actual shape[1]: {}'.format(convolution.shape[1]))\n",
    "        \n",
    "        self.conv = convolution - self.state\n",
    "    \n",
    "    \n",
    "    def rule1(self):\n",
    "        # death by underpopulation rule\n",
    "        # check if a live cell has fewer than two live neighbors\n",
    "        rule1Update = np.array(self.conv >= 2)\n",
    "        return rule1Update\n",
    "    \n",
    "    \n",
    "    def rule2(self):\n",
    "        # death by overpopulation rule\n",
    "        # check if a live cell has greater than three live neighbors\n",
    "        rule2Update = np.array(self.conv <= 3)  # False if grid>3\n",
    "        return rule2Update\n",
    "    \n",
    "    \n",
    "    def rule3(self):\n",
    "        # life by reproduction rule\n",
    "        # check if a dead cell has exactly three live neighbors\n",
    "        rule3Update = np.array(self.conv == 3)\n",
    "        return rule3Update\n",
    "        \n",
    "        \n",
    "    def checkIfSteady(self, prevState):\n",
    "        diff = self.state - prevState\n",
    "        steadyState = False if diff.any()==True else True\n",
    "        return steadyState\n",
    "    \n",
    "    \n",
    "    def nextGeneration(self):\n",
    "        # check for no change\n",
    "        prevState = self.state\n",
    "        \n",
    "        # convolve for the current grid state\n",
    "        self.convolve()\n",
    "        \n",
    "        # check all the rules and update the state\n",
    "        self.state = self.state.astype(bool)*(self.rule1()*self.rule2()) + self.rule3()   \n",
    "        self.state = self.state.astype(int)\n",
    "        \n",
    "        # update steady state flag\n",
    "        self.steady = self.checkIfSteady(prevState)\n",
    "    \n",
    "    \n",
    "    def playLife(self, num_iter):\n",
    "        \n",
    "        fig, ax = plt.subplots()\n",
    "        count = 0\n",
    "        ims = []                                        # list of lists for the state images \n",
    "        \n",
    "        \"\"\"\n",
    "        for d in frames:\n",
    "            artists = func(d, *fargs)\n",
    "            fig.canvas.draw_idle()\n",
    "            fig.canvas.start_event_loop(interval)\n",
    "        \"\"\"\n",
    "        \n",
    "        \n",
    "        while (count < num_iter) and (self.steady == False):     # self.steady == False:\n",
    "            self.nextGeneration()\n",
    "            im = ax.imshow(self.state, animated=True)\n",
    "            # plt.savefig(\"plot{}.png\".format(count+1)) # Works! But unnecessary here since the movie gets made!  \n",
    "            if count == 0:\n",
    "                ax.set_axis_off()\n",
    "                ax.imshow(self.state)                   # showing the  initial state of the grid first\n",
    "            count += 1\n",
    "            ims.append([im])\n",
    "        \n",
    "        print('Done iterating through {} generations'.format(count-1))\n",
    "        \n",
    "        ani = animation.ArtistAnimation(fig, ims, interval=300, blit=True,    # 50\n",
    "                    repeat_delay=250)\n",
    "\n",
    "        ani.save(\"gameOfLife1.mp4\")"
   ]
  },
  {
   "cell_type": "code",
   "execution_count": 3,
   "id": "47daec4c",
   "metadata": {
    "scrolled": false
   },
   "outputs": [
    {
     "name": "stdout",
     "output_type": "stream",
     "text": [
      "shape of initial_state:  (50, 50)\n"
     ]
    },
    {
     "data": {
      "text/plain": [
       "<matplotlib.image.AxesImage at 0x7f503caee850>"
      ]
     },
     "execution_count": 3,
     "metadata": {},
     "output_type": "execute_result"
    },
    {
     "data": {
      "image/png": "[encoded data removed]",
      "text/plain": [
       "<Figure size 576x576 with 1 Axes>"
      ]
     },
     "metadata": {
      "needs_background": "light"
     },
     "output_type": "display_data"
    }
   ],
   "source": [
    "nX = 50                 # grid dimension\n",
    "nY = 50                 # grid dimension\n",
    "kX = 7                   # kernel dimensions\n",
    "kY = 7                   # kernel dimensions\n",
    "nOccupied = 1050         # nuber of initially occupied (1) sites\n",
    "\n",
    "initial_state = np.zeros((nX, nY))\n",
    "print('shape of initial_state: ', initial_state.shape)\n",
    "\n",
    "posX = np.random.randint(0, nX, (nOccupied,1))    # randomly generated initial position matrix\n",
    "posY = np.random.randint(0, nY, (nOccupied,1))\n",
    "\n",
    "# posVals = np.expand_dims(np.ones(nOccupied), axis=1)\n",
    "\n",
    "num = 0\n",
    "for i,j in zip(posX, posY):\n",
    "    initial_state[i, j] = 1   #  posVals[num]\n",
    "    num += 1\n",
    "\n",
    "plt.figure(figsize=(8,8))\n",
    "plt.imshow(initial_state)"
   ]
  },
  {
   "cell_type": "code",
   "execution_count": 4,
   "id": "1fee921c",
   "metadata": {},
   "outputs": [
    {
     "name": "stdout",
     "output_type": "stream",
     "text": [
      "Done iterating through 199 generations\n"
     ]
    },
    {
     "data": {
      "image/png": "[encoded data removed]",
      "text/plain": [
       "<Figure size 432x288 with 1 Axes>"
      ]
     },
     "metadata": {
      "needs_background": "light"
     },
     "output_type": "display_data"
    }
   ],
   "source": [
    "gol = life(initial_state)\n",
    "\n",
    "gol.playLife(num_iter=200)    # iterate 100 times or until steady state is reached, whichever comes first!"
   ]
  },
  {
   "cell_type": "code",
   "execution_count": null,
   "id": "9e0c6167",
   "metadata": {},
   "outputs": [],
   "source": []
  },
  {
   "cell_type": "code",
   "execution_count": null,
   "id": "48034410",
   "metadata": {},
   "outputs": [],
   "source": []
  },
  {
   "cell_type": "code",
   "execution_count": null,
   "id": "ff7d57af",
   "metadata": {},
   "outputs": [],
   "source": []
  },
  {
   "cell_type": "code",
   "execution_count": null,
   "id": "4c4f50c7",
   "metadata": {},
   "outputs": [],
   "source": []
  },
  {
   "cell_type": "code",
   "execution_count": null,
   "id": "3dee06ea",
   "metadata": {},
   "outputs": [],
   "source": []
  },
  {
   "cell_type": "code",
   "execution_count": null,
   "id": "cb6a7c14",
   "metadata": {},
   "outputs": [],
   "source": []
  }
 ],
 "metadata": {
  "kernelspec": {
   "display_name": "Python 3 (ipykernel)",
   "language": "python",
   "name": "python3"
  },
  "language_info": {
   "codemirror_mode": {
    "name": "ipython",
    "version": 3
   },
   "file_extension": ".py",
   "mimetype": "text/x-python",
   "name": "python",
   "nbconvert_exporter": "python",
   "pygments_lexer": "ipython3",
   "version": "3.9.12"
  }
 },
 "nbformat": 4,
 "nbformat_minor": 5
}
