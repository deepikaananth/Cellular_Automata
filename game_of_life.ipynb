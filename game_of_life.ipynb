{
 "cells": [
  {
   "cell_type": "code",
   "execution_count": 1,
   "id": "32fcbf0c",
   "metadata": {},
   "outputs": [],
   "source": [
    "import numpy as np\n",
    "import matplotlib.pyplot as plt\n",
    "import matplotlib.animation as animation\n",
    "import scipy \n",
    "from scipy import signal\n",
    "import cv2 as cv\n",
    "import time"
   ]
  },
  {
   "cell_type": "code",
   "execution_count": 2,
   "id": "1a219153",
   "metadata": {},
   "outputs": [],
   "source": [
    "class life():\n",
    "    \n",
    "    def __init__(self, init_state):\n",
    "        self.state = init_state    # nDimX x nDimY grid of 1s or 0s\n",
    "        self.nDimX = np.asarray(self.state).shape[1]  # num cols\n",
    "        self.nDimY = np.asarray(self.state).shape[0]  # num rows  \n",
    "        self.steady = False                           # we haven't reached steady state yet\n",
    "        self.convState = np.empty_like(self.state)\n",
    "    \n",
    "    \n",
    "    def convolve(self):\n",
    "        # create kernel\n",
    "        kernel = np.ones((3,3))\n",
    "        \n",
    "        # convolve with the kernel\n",
    "        convolution = signal.convolve2d(self.state, kernel, mode='same', boundary='fill')\n",
    "        convolution = np.asarray(convolution)\n",
    "        \n",
    "        assert convolution.shape[0] == self.nDimY, print('actual shape[0]: {}'.format(convolution.shape[0]))\n",
    "        assert convolution.shape[1] == self.nDimX, print('actual shape[1]: {}'.format(convolution.shape[1]))\n",
    "        \n",
    "        self.conv = convolution - self.state\n",
    "    \n",
    "    \n",
    "    def rule1(self):\n",
    "        # death by underpopulation rule\n",
    "        # check if a live cell has fewer than two live neighbors\n",
    "        rule1Update = np.array(self.conv >= 2)\n",
    "        return rule1Update\n",
    "    \n",
    "    \n",
    "    def rule2(self):\n",
    "        # death by overpopulation rule\n",
    "        # check if a live cell has greater than three live neighbors\n",
    "        rule2Update = np.array(self.conv <= 3)  # False if grid>3\n",
    "        return rule2Update\n",
    "    \n",
    "    \n",
    "    def rule3(self):\n",
    "        # life by reproduction rule\n",
    "        # check if a dead cell has exactly three live neighbors\n",
    "        rule3Update = np.array(self.conv == 3)\n",
    "        return rule3Update\n",
    "        \n",
    "        \n",
    "    def checkIfSteady(self, prevState):\n",
    "        diff = self.state - prevState\n",
    "        steadyState = False if diff.any()==True else True\n",
    "        return steadyState\n",
    "    \n",
    "    \n",
    "    def nextGeneration(self):\n",
    "        # check for no change\n",
    "        prevState = self.state\n",
    "        \n",
    "        # convolve for the current grid state\n",
    "        self.convolve()\n",
    "        \n",
    "        # check all the rules and update the state\n",
    "        self.state = self.state.astype(bool)*self.rule1()*self.rule2() + self.rule3()   \n",
    "        self.state = self.state.astype(int)\n",
    "        \n",
    "        # update steady state flag\n",
    "        self.steady = self.checkIfSteady(prevState)\n",
    "    \n",
    "    \n",
    "    def playLife(self, num_iter):\n",
    "        \n",
    "        fig, ax = plt.subplots()\n",
    "        count = 0\n",
    "        ims = []                                        # list of lists for the state images \n",
    "        \n",
    "        while (count < num_iter) and (self.steady == False):     # self.steady == False:\n",
    "            self.nextGeneration()\n",
    "            im = ax.imshow(self.state, animated=True)\n",
    "            # plt.savefig(\"plot{}.png\".format(count+1)) # Works! But unnecessary here since the movie gets made!  \n",
    "            if count == 0:\n",
    "                ax.imshow(self.state)                   # showing the  initial state of the grid first\n",
    "                plt.savefig(\"plot0.png\")\n",
    "            count += 1\n",
    "            ims.append([im])\n",
    "        \n",
    "        print('Done iterating through {} generations'.format(count-1))\n",
    "        \n",
    "        ani = animation.ArtistAnimation(fig, ims, interval=500, blit=True,    # 50\n",
    "                                repeat_delay=1000)\n",
    "\n",
    "        ani.save(\"gameOfLife.mp4\")"
   ]
  },
  {
   "cell_type": "code",
   "execution_count": 3,
   "id": "47daec4c",
   "metadata": {
    "scrolled": false
   },
   "outputs": [
    {
     "name": "stdout",
     "output_type": "stream",
     "text": [
      "(25, 25)\n",
      "Done iterating through 199 generations\n"
     ]
    },
    {
     "data": {
      "image/png": "[encoded data removed]",
      "text/plain": [
       "<Figure size 432x288 with 1 Axes>"
      ]
     },
     "metadata": {
      "needs_background": "light"
     },
     "output_type": "display_data"
    }
   ],
   "source": [
    "\n",
    "initial_state = np.array([[1, 0, 0, 0, 1, 0, 1, 0, 1, 0, 0, 0, 1, 1, 0, 1, 0, 1, 0, 1, 0, 1, 1, 0, 0],\n",
    "                          [0, 0, 1, 0, 0, 1, 0, 1, 0, 0, 0, 0, 1, 0, 0, 0, 0, 0, 0, 0, 1, 0, 0, 0, 1],\n",
    "                          [0, 1, 0, 0, 1, 0, 0, 1, 0, 0, 0, 0, 0, 1, 0, 1, 0, 1, 0, 0, 0, 0, 0, 0, 0],\n",
    "                          [1, 0, 0, 0, 0, 1, 0, 0, 0, 0, 1, 1, 0, 1, 0, 0, 0, 1, 0, 0, 0, 0, 1, 0, 1],\n",
    "                          [0, 1, 0, 0, 0, 0, 0, 0, 0, 0, 0, 0, 1, 0, 0, 0, 0, 1, 1, 0, 0, 1, 0, 0, 0],\n",
    "                          [1, 0, 0, 0, 1, 0, 0, 0, 1, 1, 1, 0, 1, 1, 0, 0, 0, 1, 0, 0, 0, 0, 1, 0, 0],\n",
    "                          [0, 0, 0, 0, 0, 0, 0, 1, 0, 0, 1, 0, 0, 1, 0, 0, 1, 0, 0, 1, 0, 1, 0, 1, 0],\n",
    "                          [0, 1, 0, 1, 1, 0, 0, 0, 0, 0, 0, 1, 0, 0, 1, 0, 0, 0, 0, 0, 1, 0, 0, 0, 0],\n",
    "                          [1, 0, 1, 0, 0, 0, 1, 0, 0, 0, 1, 0, 1, 0, 1, 0, 0, 0, 0, 0, 1, 0, 0, 1, 0],\n",
    "                          [0, 1, 0, 1, 1, 0, 1, 0, 0, 1, 0, 0, 0, 1, 0, 0, 0, 1, 1, 0, 0, 0, 0, 0, 0],\n",
    "                          [0, 1, 0, 0, 1, 0, 0, 1, 0, 1, 0, 1, 0, 1, 0, 1, 0, 1, 0, 0, 0, 0, 0, 0, 0],\n",
    "                          [0, 1, 0, 1, 0, 0, 0, 0, 1, 0, 0, 0, 0, 1, 0, 0, 0, 0, 0, 0, 0, 1, 0, 0, 0],\n",
    "                          [1, 0, 0, 0, 0, 1, 0, 0, 0, 0, 0, 1, 0, 0, 0, 0, 1, 0, 0, 0, 0, 0, 1, 0, 1],\n",
    "                          [0, 1, 0, 0, 0, 1, 0, 0, 0, 0, 0, 0, 1, 0, 0, 0, 0, 0, 0, 0, 1, 0, 0, 1, 0],\n",
    "                          [0, 0, 0, 0, 0, 0, 0, 0, 1, 0, 0, 1, 0, 0, 0, 1, 0, 0, 1, 0, 1, 0, 0, 0, 0],\n",
    "                          [1, 0, 1, 0, 1, 0, 1, 0, 0, 0, 0, 1, 1, 0, 1, 0, 1, 0, 1, 0, 0, 0, 0, 0, 0],\n",
    "                          [0, 0, 0, 0, 0, 1, 0, 0, 0, 0, 0, 0, 0, 0, 0, 0, 0, 0, 0, 0, 0, 1, 0, 0, 0],\n",
    "                          [1, 0, 0, 0, 0, 0, 0, 1, 0, 0, 0, 1, 0, 1, 0, 1, 0, 1, 0, 1, 0, 0, 0, 0, 1],\n",
    "                          [1, 0, 0, 0, 0, 1, 0, 1, 0, 1, 0, 1, 0, 0, 0, 0, 0, 0, 0, 0, 0, 0, 0, 0, 0],\n",
    "                          [0, 1, 0, 0, 0, 0, 0, 0, 0, 0, 0, 0, 0, 1, 0, 0, 0, 0, 1, 0, 0, 1, 1, 1, 0],\n",
    "                          [0, 0, 0, 0, 0, 0, 0, 1, 0, 0, 0, 0, 0, 0, 0, 0, 0, 1, 0, 0, 0, 0, 0, 0, 0],\n",
    "                          [1, 0, 1, 0, 0, 0, 0, 0, 0, 0, 1, 0, 0, 0, 1, 0, 0, 0, 1, 1, 0, 0, 0, 0, 0],\n",
    "                          [0, 1, 1, 1, 1, 1, 1, 1, 1, 1, 1, 0, 0, 0, 0, 0, 1, 1, 1, 1, 1, 0, 0, 0, 0],\n",
    "                          [0, 1, 1, 0, 0, 0, 0, 0, 0, 0, 0, 0, 0, 0, 0, 0, 0, 0, 1, 0, 0, 1, 0, 0, 0],\n",
    "                          [1, 0, 1, 0, 1, 0, 1, 0, 1, 0, 1, 0, 1, 0, 1, 0, 0, 0, 0, 0, 0, 1, 1, 1, 0],])\n",
    "\n",
    "print(initial_state.shape)\n",
    "\n",
    "gol = life(initial_state)\n",
    "\n",
    "gol.playLife(num_iter=200)    # iterate 100 times or until steady state is reached, whichever comes first!"
   ]
  },
  {
   "cell_type": "code",
   "execution_count": null,
   "id": "1f6b7084",
   "metadata": {},
   "outputs": [],
   "source": [
    "# we know where the start is and the finish - they are given to us\n",
    "# we know the whole maze layout; this is not SLAM\n",
    "# We know the rules for the automata - game of life\n",
    "# cells where the maze has walls the value will be -1: telling the current cell it has one less neighbour to consider\n",
    "# and this neighbour is neither aalive nor dead. It is a wall. And it cannot change state!\n"
   ]
  },
  {
   "cell_type": "code",
   "execution_count": null,
   "id": "1fee921c",
   "metadata": {},
   "outputs": [],
   "source": []
  },
  {
   "cell_type": "code",
   "execution_count": null,
   "id": "9e0c6167",
   "metadata": {},
   "outputs": [],
   "source": []
  },
  {
   "cell_type": "code",
   "execution_count": null,
   "id": "48034410",
   "metadata": {},
   "outputs": [],
   "source": []
  },
  {
   "cell_type": "code",
   "execution_count": null,
   "id": "ff7d57af",
   "metadata": {},
   "outputs": [],
   "source": []
  },
  {
   "cell_type": "code",
   "execution_count": null,
   "id": "4c4f50c7",
   "metadata": {},
   "outputs": [],
   "source": []
  },
  {
   "cell_type": "code",
   "execution_count": null,
   "id": "3dee06ea",
   "metadata": {},
   "outputs": [],
   "source": []
  },
  {
   "cell_type": "code",
   "execution_count": null,
   "id": "cb6a7c14",
   "metadata": {},
   "outputs": [],
   "source": []
  }
 ],
 "metadata": {
  "kernelspec": {
   "display_name": "Python 3 (ipykernel)",
   "language": "python",
   "name": "python3"
  },
  "language_info": {
   "codemirror_mode": {
    "name": "ipython",
    "version": 3
   },
   "file_extension": ".py",
   "mimetype": "text/x-python",
   "name": "python",
   "nbconvert_exporter": "python",
   "pygments_lexer": "ipython3",
   "version": "3.9.12"
  }
 },
 "nbformat": 4,
 "nbformat_minor": 5
}
