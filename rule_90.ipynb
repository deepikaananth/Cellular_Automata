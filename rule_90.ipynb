{
 "cells": [
  {
   "cell_type": "code",
   "execution_count": 1,
   "id": "e5b16ea3",
   "metadata": {},
   "outputs": [],
   "source": [
    "import numpy as np\n",
    "import matplotlib.pyplot as plt\n",
    "import matplotlib.animation as animation"
   ]
  },
  {
   "cell_type": "code",
   "execution_count": 2,
   "id": "2d84034e",
   "metadata": {},
   "outputs": [],
   "source": [
    "class rule90:\n",
    "    \n",
    "    \n",
    "    def __init__(self, init_state, num_iter):\n",
    "        \n",
    "        self.state = init_state                # row vector\n",
    "        self.n     = len(self.state)\n",
    "        self.N     = num_iter\n",
    "        self.totState = np.zeros((self.N, self.n))     # num_iter x length_of_vector\n",
    "        self.totState[0, :] = self.state\n",
    "        self.count = 0\n",
    "    \n",
    "    \n",
    "    \n",
    "    def propagate(self):\n",
    "        \n",
    "        updated = np.zeros_like(self.state)\n",
    "        \n",
    "        for i in range(self.n):\n",
    "            \n",
    "            left  = self.state[(i-1)%self.n]\n",
    "            right = self.state[(i+1)%self.n]\n",
    "            \n",
    "            new   = left ^ right\n",
    "            updated[i] = new\n",
    "        \n",
    "        self.state = updated\n",
    "        \n",
    "        self.count += 1\n",
    "        \n",
    "        self.totState[self.count, :] = self.state\n",
    "    \n",
    "    \n",
    "    \n",
    "    def automaton(self):\n",
    "        \n",
    "        fig, ax = plt.subplots()\n",
    "        ax.axis('off')\n",
    "        \n",
    "        w_in_inches = 5;        h_in_inches = 7.5\n",
    "        \n",
    "        fig.set_size_inches(w_in_inches, h_in_inches, True)    # set size of the figure\n",
    "        ims = []                                               # list of lists for the state images \n",
    "        \n",
    "        for self.count in range(self.N-1):\n",
    "            \n",
    "            self.propagate()\n",
    "            im = ax.imshow(self.totState, animated=True)\n",
    "            ims.append([im])\n",
    "            \n",
    "        print('Done propagating through {} iterations'.format(self.count+1))\n",
    "        \n",
    "        ani = animation.ArtistAnimation(fig, ims, interval=150, blit=True, repeat_delay=5)\n",
    "\n",
    "        ani.save(\"rule_90.mp4\", dpi=600)"
   ]
  },
  {
   "cell_type": "code",
   "execution_count": 3,
   "id": "3ece6269",
   "metadata": {},
   "outputs": [],
   "source": [
    "init = np.zeros(231).astype(int)\n",
    "init[115] = 1\n",
    "\n",
    "r = rule90(init_state=init, num_iter=350)"
   ]
  },
  {
   "cell_type": "code",
   "execution_count": null,
   "id": "0e994932",
   "metadata": {},
   "outputs": [
    {
     "name": "stderr",
     "output_type": "stream",
     "text": [
      "100%|███████████████████████████████████████| 349/349 [00:00<00:00, 1235.94it/s]\n"
     ]
    },
    {
     "name": "stdout",
     "output_type": "stream",
     "text": [
      "Done propagating through 350 iterations\n"
     ]
    }
   ],
   "source": [
    "r.automaton()"
   ]
  },
  {
   "cell_type": "code",
   "execution_count": null,
   "id": "6d950067",
   "metadata": {},
   "outputs": [],
   "source": []
  },
  {
   "cell_type": "code",
   "execution_count": null,
   "id": "edefc1c2",
   "metadata": {},
   "outputs": [],
   "source": []
  }
 ],
 "metadata": {
  "kernelspec": {
   "display_name": "Python 3 (ipykernel)",
   "language": "python",
   "name": "python3"
  },
  "language_info": {
   "codemirror_mode": {
    "name": "ipython",
    "version": 3
   },
   "file_extension": ".py",
   "mimetype": "text/x-python",
   "name": "python",
   "nbconvert_exporter": "python",
   "pygments_lexer": "ipython3",
   "version": "3.9.12"
  }
 },
 "nbformat": 4,
 "nbformat_minor": 5
}
